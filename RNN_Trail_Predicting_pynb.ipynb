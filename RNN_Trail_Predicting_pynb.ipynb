{
  "nbformat": 4,
  "nbformat_minor": 0,
  "metadata": {
    "colab": {
      "provenance": [],
      "authorship_tag": "ABX9TyNW9p4p/aHpJXy6Sqj/Cntv",
      "include_colab_link": true
    },
    "kernelspec": {
      "name": "python3",
      "display_name": "Python 3"
    },
    "language_info": {
      "name": "python"
    }
  },
  "cells": [
    {
      "cell_type": "markdown",
      "metadata": {
        "id": "view-in-github",
        "colab_type": "text"
      },
      "source": [
        "<a href=\"https://colab.research.google.com/github/dimpupradev/base/blob/main/RNN_Trail_Predicting_pynb.ipynb\" target=\"_parent\"><img src=\"https://colab.research.google.com/assets/colab-badge.svg\" alt=\"Open In Colab\"/></a>"
      ]
    },
    {
      "cell_type": "code",
      "execution_count": null,
      "metadata": {
        "id": "ByP4fkAXO9wF"
      },
      "outputs": [],
      "source": [
        "import numpy as np\n",
        "from keras.models import Sequential\n",
        "from keras.layers import SimpleRNN, Dense, Embedding\n",
        "from keras.preprocessing.text import Tokenizer\n",
        "from keras.preprocessing.sequence import pad_sequences\n",
        "from keras.utils import to_categorical"
      ]
    },
    {
      "cell_type": "code",
      "source": [
        "sentences = ['I love learning','I love python','I hate school',\n",
        "             'Recurrent Neural Networks are powerful']"
      ],
      "metadata": {
        "id": "pWznT3TKPgQG"
      },
      "execution_count": null,
      "outputs": []
    },
    {
      "cell_type": "code",
      "source": [
        "tokenizer = Tokenizer()\n",
        "tokenizer.fit_on_texts(sentences)\n",
        "total_words = len(tokenizer.word_index) + 1\n"
      ],
      "metadata": {
        "id": "tKJCiW2jPvOJ"
      },
      "execution_count": null,
      "outputs": []
    },
    {
      "cell_type": "code",
      "source": [
        "input_sequences = []\n",
        "for sentence in sentences:\n",
        "    tokenized_sentence = tokenizer.texts_to_sequences([sentence])[0]\n",
        "    for i in range(1, len(tokenized_sentence)):\n",
        "        n_gram_sequence = tokenized_sentence[:i+1]\n",
        "        input_sequences.append(n_gram_sequence)"
      ],
      "metadata": {
        "id": "ZZy8RXxyP1Fb"
      },
      "execution_count": null,
      "outputs": []
    },
    {
      "cell_type": "code",
      "source": [
        "max_sequence_length = max([len(seq) for seq in input_sequences])\n",
        "input_sequences = pad_sequences(input_sequences, maxlen=max_sequence_length, padding='pre')\n"
      ],
      "metadata": {
        "id": "0axNAYtKP5e7"
      },
      "execution_count": null,
      "outputs": []
    },
    {
      "cell_type": "code",
      "source": [
        "X, y = input_sequences[:, :-1], input_sequences[:, -1]\n",
        "y = to_categorical(y, num_classes=total_words)\n"
      ],
      "metadata": {
        "id": "WhsP7p0CP-bS"
      },
      "execution_count": null,
      "outputs": []
    },
    {
      "cell_type": "code",
      "source": [
        "model = Sequential()\n",
        "model.add(Embedding(input_dim=total_words, output_dim=50, input_length=max_sequence_length-1))\n",
        "model.add(SimpleRNN(100, return_sequences=True))\n",
        "model.add(SimpleRNN(100))\n",
        "model.add(Dense(total_words, activation='softmax'))\n"
      ],
      "metadata": {
        "id": "GpzZg4zYQDsD"
      },
      "execution_count": null,
      "outputs": []
    },
    {
      "cell_type": "code",
      "source": [
        "model.compile(optimizer='adam', loss='categorical_crossentropy', metrics=['accuracy'])\n"
      ],
      "metadata": {
        "id": "IHQboNnSQPRw"
      },
      "execution_count": null,
      "outputs": []
    },
    {
      "cell_type": "code",
      "source": [
        "model.fit(X, y, epochs=50, verbose=2)\n"
      ],
      "metadata": {
        "colab": {
          "base_uri": "https://localhost:8080/"
        },
        "id": "NuSs3YFWQUNn",
        "outputId": "ecdef4b8-a85c-41bd-aff4-4c495879b180"
      },
      "execution_count": null,
      "outputs": [
        {
          "output_type": "stream",
          "name": "stdout",
          "text": [
            "Epoch 1/50\n",
            "1/1 - 5s - loss: 2.4948 - accuracy: 0.1000 - 5s/epoch - 5s/step\n",
            "Epoch 2/50\n",
            "1/1 - 0s - loss: 2.3970 - accuracy: 0.0000e+00 - 31ms/epoch - 31ms/step\n",
            "Epoch 3/50\n",
            "1/1 - 0s - loss: 2.3066 - accuracy: 0.2000 - 19ms/epoch - 19ms/step\n",
            "Epoch 4/50\n",
            "1/1 - 0s - loss: 2.2207 - accuracy: 0.3000 - 33ms/epoch - 33ms/step\n",
            "Epoch 5/50\n",
            "1/1 - 0s - loss: 2.1384 - accuracy: 0.3000 - 10ms/epoch - 10ms/step\n",
            "Epoch 6/50\n",
            "1/1 - 0s - loss: 2.0601 - accuracy: 0.3000 - 14ms/epoch - 14ms/step\n",
            "Epoch 7/50\n",
            "1/1 - 0s - loss: 1.9860 - accuracy: 0.3000 - 10ms/epoch - 10ms/step\n",
            "Epoch 8/50\n",
            "1/1 - 0s - loss: 1.9145 - accuracy: 0.3000 - 10ms/epoch - 10ms/step\n",
            "Epoch 9/50\n",
            "1/1 - 0s - loss: 1.8415 - accuracy: 0.4000 - 10ms/epoch - 10ms/step\n",
            "Epoch 10/50\n",
            "1/1 - 0s - loss: 1.7638 - accuracy: 0.4000 - 10ms/epoch - 10ms/step\n",
            "Epoch 11/50\n",
            "1/1 - 0s - loss: 1.6816 - accuracy: 0.4000 - 9ms/epoch - 9ms/step\n",
            "Epoch 12/50\n",
            "1/1 - 0s - loss: 1.5989 - accuracy: 0.4000 - 17ms/epoch - 17ms/step\n",
            "Epoch 13/50\n",
            "1/1 - 0s - loss: 1.5208 - accuracy: 0.5000 - 15ms/epoch - 15ms/step\n",
            "Epoch 14/50\n",
            "1/1 - 0s - loss: 1.4499 - accuracy: 0.6000 - 9ms/epoch - 9ms/step\n",
            "Epoch 15/50\n",
            "1/1 - 0s - loss: 1.3858 - accuracy: 0.6000 - 9ms/epoch - 9ms/step\n",
            "Epoch 16/50\n",
            "1/1 - 0s - loss: 1.3267 - accuracy: 0.6000 - 10ms/epoch - 10ms/step\n",
            "Epoch 17/50\n",
            "1/1 - 0s - loss: 1.2715 - accuracy: 0.6000 - 11ms/epoch - 11ms/step\n",
            "Epoch 18/50\n",
            "1/1 - 0s - loss: 1.2202 - accuracy: 0.6000 - 10ms/epoch - 10ms/step\n",
            "Epoch 19/50\n",
            "1/1 - 0s - loss: 1.1732 - accuracy: 0.7000 - 9ms/epoch - 9ms/step\n",
            "Epoch 20/50\n",
            "1/1 - 0s - loss: 1.1299 - accuracy: 0.7000 - 10ms/epoch - 10ms/step\n",
            "Epoch 21/50\n",
            "1/1 - 0s - loss: 1.0888 - accuracy: 0.7000 - 12ms/epoch - 12ms/step\n",
            "Epoch 22/50\n",
            "1/1 - 0s - loss: 1.0496 - accuracy: 0.7000 - 10ms/epoch - 10ms/step\n",
            "Epoch 23/50\n",
            "1/1 - 0s - loss: 1.0127 - accuracy: 0.7000 - 16ms/epoch - 16ms/step\n",
            "Epoch 24/50\n",
            "1/1 - 0s - loss: 0.9784 - accuracy: 0.7000 - 10ms/epoch - 10ms/step\n",
            "Epoch 25/50\n",
            "1/1 - 0s - loss: 0.9461 - accuracy: 0.7000 - 10ms/epoch - 10ms/step\n",
            "Epoch 26/50\n",
            "1/1 - 0s - loss: 0.9142 - accuracy: 0.7000 - 11ms/epoch - 11ms/step\n",
            "Epoch 27/50\n",
            "1/1 - 0s - loss: 0.8823 - accuracy: 0.7000 - 10ms/epoch - 10ms/step\n",
            "Epoch 28/50\n",
            "1/1 - 0s - loss: 0.8510 - accuracy: 0.7000 - 10ms/epoch - 10ms/step\n",
            "Epoch 29/50\n",
            "1/1 - 0s - loss: 0.8212 - accuracy: 0.7000 - 11ms/epoch - 11ms/step\n",
            "Epoch 30/50\n",
            "1/1 - 0s - loss: 0.7934 - accuracy: 0.7000 - 11ms/epoch - 11ms/step\n",
            "Epoch 31/50\n",
            "1/1 - 0s - loss: 0.7672 - accuracy: 0.7000 - 10ms/epoch - 10ms/step\n",
            "Epoch 32/50\n",
            "1/1 - 0s - loss: 0.7421 - accuracy: 0.7000 - 10ms/epoch - 10ms/step\n",
            "Epoch 33/50\n",
            "1/1 - 0s - loss: 0.7179 - accuracy: 0.7000 - 11ms/epoch - 11ms/step\n",
            "Epoch 34/50\n",
            "1/1 - 0s - loss: 0.6950 - accuracy: 0.8000 - 10ms/epoch - 10ms/step\n",
            "Epoch 35/50\n",
            "1/1 - 0s - loss: 0.6735 - accuracy: 0.8000 - 9ms/epoch - 9ms/step\n",
            "Epoch 36/50\n",
            "1/1 - 0s - loss: 0.6531 - accuracy: 0.8000 - 10ms/epoch - 10ms/step\n",
            "Epoch 37/50\n",
            "1/1 - 0s - loss: 0.6338 - accuracy: 0.8000 - 9ms/epoch - 9ms/step\n",
            "Epoch 38/50\n",
            "1/1 - 0s - loss: 0.6152 - accuracy: 0.8000 - 9ms/epoch - 9ms/step\n",
            "Epoch 39/50\n",
            "1/1 - 0s - loss: 0.5971 - accuracy: 0.8000 - 10ms/epoch - 10ms/step\n",
            "Epoch 40/50\n",
            "1/1 - 0s - loss: 0.5794 - accuracy: 0.8000 - 10ms/epoch - 10ms/step\n",
            "Epoch 41/50\n",
            "1/1 - 0s - loss: 0.5622 - accuracy: 0.8000 - 9ms/epoch - 9ms/step\n",
            "Epoch 42/50\n",
            "1/1 - 0s - loss: 0.5458 - accuracy: 0.8000 - 10ms/epoch - 10ms/step\n",
            "Epoch 43/50\n",
            "1/1 - 0s - loss: 0.5300 - accuracy: 0.8000 - 9ms/epoch - 9ms/step\n",
            "Epoch 44/50\n",
            "1/1 - 0s - loss: 0.5148 - accuracy: 0.8000 - 10ms/epoch - 10ms/step\n",
            "Epoch 45/50\n",
            "1/1 - 0s - loss: 0.5000 - accuracy: 0.8000 - 10ms/epoch - 10ms/step\n",
            "Epoch 46/50\n",
            "1/1 - 0s - loss: 0.4860 - accuracy: 0.8000 - 10ms/epoch - 10ms/step\n",
            "Epoch 47/50\n",
            "1/1 - 0s - loss: 0.4728 - accuracy: 0.8000 - 10ms/epoch - 10ms/step\n",
            "Epoch 48/50\n",
            "1/1 - 0s - loss: 0.4603 - accuracy: 0.8000 - 9ms/epoch - 9ms/step\n",
            "Epoch 49/50\n",
            "1/1 - 0s - loss: 0.4486 - accuracy: 0.8000 - 9ms/epoch - 9ms/step\n",
            "Epoch 50/50\n",
            "1/1 - 0s - loss: 0.4376 - accuracy: 0.8000 - 9ms/epoch - 9ms/step\n"
          ]
        },
        {
          "output_type": "execute_result",
          "data": {
            "text/plain": [
              "<keras.src.callbacks.History at 0x7acefcd86650>"
            ]
          },
          "metadata": {},
          "execution_count": 9
        }
      ]
    },
    {
      "cell_type": "code",
      "source": [
        "seed_text = input(\"Enter the starting word: \")\n",
        "next_words = int(input(\"Enter how many words to predict: \"))\n",
        "\n",
        "for _ in range(next_words):\n",
        "    tokenized_seed = tokenizer.texts_to_sequences([seed_text])[0]\n",
        "    tokenized_seed = pad_sequences([tokenized_seed], maxlen=max_sequence_length-1, padding='pre')\n",
        "    predicted_word_index = np.argmax(model.predict(tokenized_seed), axis=-1)\n",
        "    predicted_word = tokenizer.index_word[predicted_word_index[0]]\n",
        "    seed_text += \" \" + predicted_word\n",
        "\n",
        "print(seed_text)"
      ],
      "metadata": {
        "colab": {
          "base_uri": "https://localhost:8080/"
        },
        "id": "fyIieJg6Qomy",
        "outputId": "f9a31bc5-0260-40c0-e187-efa7d10ced8c"
      },
      "execution_count": null,
      "outputs": [
        {
          "output_type": "stream",
          "name": "stdout",
          "text": [
            "Enter the starting word: i love\n",
            "Enter how many words to predict: 5\n",
            "1/1 [==============================] - 0s 261ms/step\n",
            "1/1 [==============================] - 0s 20ms/step\n",
            "1/1 [==============================] - 0s 28ms/step\n",
            "1/1 [==============================] - 0s 20ms/step\n",
            "1/1 [==============================] - 0s 30ms/step\n",
            "i love python are powerful powerful are\n"
          ]
        }
      ]
    },
    {
      "cell_type": "code",
      "source": [],
      "metadata": {
        "id": "KomhXaIbRFSv"
      },
      "execution_count": null,
      "outputs": []
    }
  ]
}