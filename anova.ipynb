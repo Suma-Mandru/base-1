{
  "nbformat": 4,
  "nbformat_minor": 0,
  "metadata": {
    "colab": {
      "provenance": [],
      "authorship_tag": "ABX9TyPR2Ga9DysSp+poOk/Il889",
      "include_colab_link": true
    },
    "kernelspec": {
      "name": "python3",
      "display_name": "Python 3"
    },
    "language_info": {
      "name": "python"
    }
  },
  "cells": [
    {
      "cell_type": "markdown",
      "metadata": {
        "id": "view-in-github",
        "colab_type": "text"
      },
      "source": [
        "<a href=\"https://colab.research.google.com/github/dimpupradev/base/blob/main/anova.ipynb\" target=\"_parent\"><img src=\"https://colab.research.google.com/assets/colab-badge.svg\" alt=\"Open In Colab\"/></a>"
      ]
    },
    {
      "cell_type": "code",
      "source": [
        "import numpy as np\n",
        "import pandas as pd\n",
        "import scipy.stats as stats\n",
        "import statsmodels.api as sm"
      ],
      "metadata": {
        "id": "UHpz4kPOVSjW"
      },
      "execution_count": 2,
      "outputs": []
    },
    {
      "cell_type": "code",
      "source": [
        "np.random.seed(0)\n",
        "data = pd.DataFrame({\n",
        "    'treatment': np.random.choice(['A', 'B', 'C'], size=100),\n",
        "    'score': np.random.normal(loc=10, scale=2, size=100)\n",
        "})\n",
        "print(data)"
      ],
      "metadata": {
        "colab": {
          "base_uri": "https://localhost:8080/"
        },
        "id": "EopvNtaZVXl5",
        "outputId": "fdedd6ca-eff2-41e6-d2ae-4c517231d5b3"
      },
      "execution_count": 3,
      "outputs": [
        {
          "output_type": "stream",
          "name": "stdout",
          "text": [
            "   treatment      score\n",
            "0          A   8.626821\n",
            "1          B  10.029747\n",
            "2          A   9.248668\n",
            "3          B   9.923553\n",
            "4          B  10.735949\n",
            "..       ...        ...\n",
            "95         A   9.933528\n",
            "96         C  10.131283\n",
            "97         A  10.531571\n",
            "98         B  12.303684\n",
            "99         C  10.276086\n",
            "\n",
            "[100 rows x 2 columns]\n"
          ]
        }
      ]
    },
    {
      "cell_type": "code",
      "execution_count": 4,
      "metadata": {
        "colab": {
          "base_uri": "https://localhost:8080/"
        },
        "id": "Ikp2td41VJJZ",
        "outputId": "bb405ee0-7b0a-46e1-9671-3b11690b7ee5"
      },
      "outputs": [
        {
          "output_type": "stream",
          "name": "stdout",
          "text": [
            "F-statistic: 0.6019178068930898\n",
            "P-value: 0.5497930622874936\n"
          ]
        }
      ],
      "source": [
        "f_stat, p_value = stats.f_oneway(data[data['treatment']=='A']['score'],data[data['treatment'] == 'B']['score'],data[data['treatment'] == 'C']['score'])\n",
        "print(\"F-statistic:\",f_stat)\n",
        "print(\"P-value:\",p_value)"
      ]
    },
    {
      "cell_type": "code",
      "source": [
        "import numpy as np\n",
        "\n",
        "from statsmodels.stats.multicomp import pairwise_tukeyhsd\n",
        "\n",
        "# Combine all data into a single array\n",
        "group1 = [1, 2, 3, 4, 5]\n",
        "group2 = [6, 7, 8, 9, 10]\n",
        "group3 = [11, 12, 13, 14, 15]\n",
        "all_data = np.concatenate([group1, group2, group3])\n",
        "\n",
        "# Create labels for groups\n",
        "labels = ['Group 1'] * len(group1) + ['Group 2'] * len(group2) + ['Group 3'] * len(group3)\n",
        "\n",
        "# Perform Tukey's HSD test\n",
        "tukey_results = pairwise_tukeyhsd(all_data, labels, alpha=0.05)\n",
        "print(tukey_results)\n"
      ],
      "metadata": {
        "colab": {
          "base_uri": "https://localhost:8080/"
        },
        "id": "5zZCgvFUViDR",
        "outputId": "763119af-838b-490d-b324-ddad05d6554b"
      },
      "execution_count": 5,
      "outputs": [
        {
          "output_type": "stream",
          "name": "stdout",
          "text": [
            " Multiple Comparison of Means - Tukey HSD, FWER=0.05 \n",
            "=====================================================\n",
            " group1  group2 meandiff p-adj  lower   upper  reject\n",
            "-----------------------------------------------------\n",
            "Group 1 Group 2      5.0 0.0008 2.3321  7.6679   True\n",
            "Group 1 Group 3     10.0    0.0 7.3321 12.6679   True\n",
            "Group 2 Group 3      5.0 0.0008 2.3321  7.6679   True\n",
            "-----------------------------------------------------\n"
          ]
        }
      ]
    },
    {
      "cell_type": "code",
      "source": [
        "#REGRESSION ANALYSIS (Simple linear regression)\n",
        "\n",
        "import pandas as pd\n",
        "import statsmodels.api as sm\n",
        "X = sm.add_constant(data['treatment'].replace ({'A':0,'B':1,'C':2}))\n",
        "model = sm.OLS(data['score'],X)\n",
        "results = model.fit()\n",
        "print(results.summary())"
      ],
      "metadata": {
        "colab": {
          "base_uri": "https://localhost:8080/"
        },
        "id": "hoILdNjMVkHT",
        "outputId": "93828a89-ff92-472d-a7e7-c820b3e7a846"
      },
      "execution_count": 8,
      "outputs": [
        {
          "output_type": "stream",
          "name": "stdout",
          "text": [
            "                            OLS Regression Results                            \n",
            "==============================================================================\n",
            "Dep. Variable:                  score   R-squared:                       0.008\n",
            "Model:                            OLS   Adj. R-squared:                 -0.002\n",
            "Method:                 Least Squares   F-statistic:                    0.7559\n",
            "Date:                Sat, 17 Feb 2024   Prob (F-statistic):              0.387\n",
            "Time:                        09:13:38   Log-Likelihood:                -210.90\n",
            "No. Observations:                 100   AIC:                             425.8\n",
            "Df Residuals:                      98   BIC:                             431.0\n",
            "Df Model:                           1                                         \n",
            "Covariance Type:            nonrobust                                         \n",
            "==============================================================================\n",
            "                 coef    std err          t      P>|t|      [0.025      0.975]\n",
            "------------------------------------------------------------------------------\n",
            "const          9.6932      0.299     32.452      0.000       9.100      10.286\n",
            "treatment      0.2179      0.251      0.869      0.387      -0.279       0.715\n",
            "==============================================================================\n",
            "Omnibus:                        0.548   Durbin-Watson:                   1.883\n",
            "Prob(Omnibus):                  0.760   Jarque-Bera (JB):                0.654\n",
            "Skew:                          -0.163   Prob(JB):                        0.721\n",
            "Kurtosis:                       2.775   Cond. No.                         2.63\n",
            "==============================================================================\n",
            "\n",
            "Notes:\n",
            "[1] Standard Errors assume that the covariance matrix of the errors is correctly specified.\n"
          ]
        }
      ]
    },
    {
      "cell_type": "code",
      "source": [
        "# OLS REGRESSION\n",
        "import numpy as np\n",
        "import statsmodels.api as sm\n",
        "\n",
        "# Sample data\n",
        "X = np.array([1, 2, 3, 4, 5])  # Independent variable\n",
        "y = np.array([2, 4, 5, 4, 5])  # Dependent variable\n",
        "\n",
        "# Add a constant to the independent variable (for intercept estimation)\n",
        "X = sm.add_constant(X)\n",
        "\n",
        "# Create OLS model\n",
        "model = sm.OLS(y, X)\n",
        "\n",
        "# Fit the model\n",
        "results = model.fit()\n",
        "\n",
        "# Print summary of results\n",
        "print(results.summary())"
      ],
      "metadata": {
        "colab": {
          "base_uri": "https://localhost:8080/"
        },
        "id": "87gciPqUZUk3",
        "outputId": "b885017a-afd1-4b85-a0c9-79df5bceedd0"
      },
      "execution_count": 10,
      "outputs": [
        {
          "output_type": "stream",
          "name": "stdout",
          "text": [
            "                            OLS Regression Results                            \n",
            "==============================================================================\n",
            "Dep. Variable:                      y   R-squared:                       0.600\n",
            "Model:                            OLS   Adj. R-squared:                  0.467\n",
            "Method:                 Least Squares   F-statistic:                     4.500\n",
            "Date:                Sat, 17 Feb 2024   Prob (F-statistic):              0.124\n",
            "Time:                        09:31:03   Log-Likelihood:                -5.2598\n",
            "No. Observations:                   5   AIC:                             14.52\n",
            "Df Residuals:                       3   BIC:                             13.74\n",
            "Df Model:                           1                                         \n",
            "Covariance Type:            nonrobust                                         \n",
            "==============================================================================\n",
            "                 coef    std err          t      P>|t|      [0.025      0.975]\n",
            "------------------------------------------------------------------------------\n",
            "const          2.2000      0.938      2.345      0.101      -0.785       5.185\n",
            "x1             0.6000      0.283      2.121      0.124      -0.300       1.500\n",
            "==============================================================================\n",
            "Omnibus:                          nan   Durbin-Watson:                   2.017\n",
            "Prob(Omnibus):                    nan   Jarque-Bera (JB):                0.570\n",
            "Skew:                           0.289   Prob(JB):                        0.752\n",
            "Kurtosis:                       1.450   Cond. No.                         8.37\n",
            "==============================================================================\n",
            "\n",
            "Notes:\n",
            "[1] Standard Errors assume that the covariance matrix of the errors is correctly specified.\n"
          ]
        },
        {
          "output_type": "stream",
          "name": "stderr",
          "text": [
            "/usr/local/lib/python3.10/dist-packages/statsmodels/stats/stattools.py:74: ValueWarning: omni_normtest is not valid with less than 8 observations; 5 samples were given.\n",
            "  warn(\"omni_normtest is not valid with less than 8 observations; %i \"\n"
          ]
        }
      ]
    }
  ]
}